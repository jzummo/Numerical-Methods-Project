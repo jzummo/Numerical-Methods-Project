{
  "metadata": {
    "language_info": {
      "codemirror_mode": {
        "name": "python",
        "version": 3
      },
      "file_extension": ".py",
      "mimetype": "text/x-python",
      "name": "python",
      "nbconvert_exporter": "python",
      "pygments_lexer": "ipython3",
      "version": "3.8"
    },
    "kernelspec": {
      "name": "python",
      "display_name": "Python (Pyodide)",
      "language": "python"
    }
  },
  "nbformat_minor": 4,
  "nbformat": 4,
  "cells": [
    {
      "cell_type": "code",
      "source": "import pandas as pd\nimport numpy as np",
      "metadata": {
        "trusted": true
      },
      "execution_count": 60,
      "outputs": []
    },
    {
      "cell_type": "code",
      "source": "pd.set_option(\"display.precision\", 16)",
      "metadata": {
        "trusted": true
      },
      "execution_count": 79,
      "outputs": []
    },
    {
      "cell_type": "code",
      "source": "step_size = np.array([2 ** k for k in range(10, 21)])",
      "metadata": {
        "trusted": true
      },
      "execution_count": 80,
      "outputs": []
    },
    {
      "cell_type": "code",
      "source": "print(step_size)",
      "metadata": {
        "trusted": true
      },
      "execution_count": 81,
      "outputs": [
        {
          "name": "stdout",
          "text": "[   1024    2048    4096    8192   16384   32768   65536  131072  262144\n  524288 1048576]\n",
          "output_type": "stream"
        }
      ]
    },
    {
      "cell_type": "code",
      "source": "def f(t, x):\n    return x",
      "metadata": {
        "trusted": true
      },
      "execution_count": 82,
      "outputs": []
    },
    {
      "cell_type": "markdown",
      "source": "This function can be customized. f(t, x) defines the vector field of the diff eq.",
      "metadata": {}
    },
    {
      "cell_type": "code",
      "source": "t0, x0 = (0, 1)",
      "metadata": {
        "trusted": true
      },
      "execution_count": 83,
      "outputs": []
    },
    {
      "cell_type": "markdown",
      "source": "Defines the initial data of the diff eq.",
      "metadata": {}
    },
    {
      "cell_type": "code",
      "source": "def euler_method(step):\n    \"\"\"\n    Computes x(t) for t in 0, 1d, ..., 1, where d = 1/step. Returns x(1).\n    \"\"\"\n    outputs = np.zeros(step + 1)\n    outputs[t0] = x0\n    n = 1\n    d = 1/step\n    while n <= step:\n        outputs[n] = outputs[n-1] + d * f((n-1) * d, outputs[n-1])\n        n += 1\n    return outputs[-1]",
      "metadata": {
        "trusted": true
      },
      "execution_count": 84,
      "outputs": []
    },
    {
      "cell_type": "code",
      "source": "euler_approx = np.array([euler_method(step) for step in step_size])",
      "metadata": {
        "trusted": true
      },
      "execution_count": 85,
      "outputs": []
    },
    {
      "cell_type": "code",
      "source": "def midpoint_method(step):\n    \"\"\"\n    Computes x(t) for t in 0, 1d, ..., 1, where d = 1/step. Returns x(1).\n    \"\"\"\n    outputs = np.zeros(step + 1)\n    outputs[t0] = x0\n    n = 1\n    d = 1/step\n    while n <= step:\n        temp = outputs[n-1] + d/2 * f(d * (n-1), outputs[n-1])\n        outputs[n] = outputs[n-1] + d * f(d * (n-1) + d / 2, temp)\n        n += 1\n    return outputs[-1]",
      "metadata": {
        "trusted": true
      },
      "execution_count": 86,
      "outputs": []
    },
    {
      "cell_type": "code",
      "source": "midpoint_approx = np.array([midpoint_method(step) for step in step_size])",
      "metadata": {
        "trusted": true
      },
      "execution_count": 87,
      "outputs": []
    },
    {
      "cell_type": "code",
      "source": "def runge_kutta(step):\n    \"\"\"\n    Computes x(t) for t in 0, 1d, ..., 1, where d = 1/step. Returns x(1).\n    \"\"\"\n    outputs = np.zeros(step + 1)\n    outputs[t0] = x0\n    n = 1\n    d = 1/step\n    while n <= step:\n        k1 = f(d * (n-1), outputs[n-1])\n        k2 = f(d * (n-1) + d / 2, outputs[n-1] + d/2 * k1)\n        k3 = f(d * (n-1) + d / 2, outputs[n-1] + d/2 * k2)\n        k4 = f(d * (n-1) + d, outputs[n-1] + d * k3)\n        outputs[n] = outputs[n-1] + (1/6) * d * (k1 + 2*k2 + 2*k3 + k4)\n        n += 1\n    return outputs[-1]",
      "metadata": {
        "trusted": true
      },
      "execution_count": 89,
      "outputs": []
    },
    {
      "cell_type": "code",
      "source": "runge_kutta_approx = np.array([runge_kutta(step) for step in step_size])",
      "metadata": {
        "trusted": true
      },
      "execution_count": 90,
      "outputs": []
    },
    {
      "cell_type": "code",
      "source": "euler_df = pd.DataFrame({\"Euler's Method Approximation\": euler_approx, \"Actual\": np.array([np.e for _ in step_size])}, index = step_size)",
      "metadata": {
        "trusted": true
      },
      "execution_count": 101,
      "outputs": []
    },
    {
      "cell_type": "code",
      "source": "euler_df[\"Error\"] = abs(euler_df[\"Euler's Method Approximation\"] - euler_df[\"Actual\"])",
      "metadata": {
        "trusted": true
      },
      "execution_count": 102,
      "outputs": []
    },
    {
      "cell_type": "code",
      "source": "midpoint_df = pd.DataFrame({\"Midpoint Method Approximation\": midpoint_approx, \"Actual\": np.array([np.e for _ in step_size])}, index = step_size)",
      "metadata": {
        "trusted": true
      },
      "execution_count": 104,
      "outputs": []
    },
    {
      "cell_type": "code",
      "source": "midpoint_df[\"Error\"] = abs(midpoint_df[\"Midpoint Method Approximation\"] - midpoint_df[\"Actual\"])",
      "metadata": {
        "trusted": true
      },
      "execution_count": 106,
      "outputs": []
    },
    {
      "cell_type": "code",
      "source": "runge_kutta_df = pd.DataFrame({\"Runge Kutta Approximation\": runge_kutta_approx, \"Actual\": np.array([np.e for _ in step_size])}, index = step_size)",
      "metadata": {
        "trusted": true
      },
      "execution_count": 108,
      "outputs": []
    },
    {
      "cell_type": "code",
      "source": "runge_kutta_df[\"Error\"] = abs(runge_kutta_df[\"Runge Kutta Approximation\"] - runge_kutta_df[\"Actual\"])",
      "metadata": {
        "trusted": true
      },
      "execution_count": 109,
      "outputs": []
    },
    {
      "cell_type": "code",
      "source": "print(euler_df)",
      "metadata": {
        "trusted": true
      },
      "execution_count": 111,
      "outputs": [
        {
          "name": "stdout",
          "text": "         Euler's Method Approximation              Actual               Error\n1024               2.7169557294664357  2.7182818284590451  0.0013260989926094\n2048               2.7176184823368796  2.7182818284590451  0.0006633461221655\n4096               2.7179500811896666  2.7182818284590451  0.0003317472693785\n8192               2.7181159362657876  2.7182818284590451  0.0001658921932575\n16384              2.7181988777219490  2.7182818284590451  0.0000829507370961\n32768              2.7182403519302696  2.7182818284590451  0.0000414765287755\n65536              2.7182610899046455  2.7182818284590451  0.0000207385543995\n131072             2.7182714591092370  2.7182818284590451  0.0000103693498081\n262144             2.7182766437660111  2.7182818284590451  0.0000051846930340\n524288             2.7182792361078856  2.7182818284590451  0.0000025923511595\n1048576            2.7182805322824128  2.7182818284590451  0.0000012961766322\n",
          "output_type": "stream"
        }
      ]
    },
    {
      "cell_type": "code",
      "source": "print(midpoint_df)",
      "metadata": {
        "trusted": true
      },
      "execution_count": 112,
      "outputs": [
        {
          "name": "stdout",
          "text": "         Midpoint Method Approximation              Actual               Error\n1024                2.7182813967161392  2.7182818284590451  0.0000004317429059\n2048                2.7182817204837777  2.7182818284590451  0.0000001079752674\n4096                2.7182818014602854  2.7182818284590451  0.0000000269987597\n8192                2.7182818217087306  2.7182818284590451  0.0000000067503145\n16384               2.7182818267714186  2.7182818284590451  0.0000000016876265\n32768               2.7182818280371128  2.7182818284590451  0.0000000004219323\n65536               2.7182818283535792  2.7182818284590451  0.0000000001054659\n131072              2.7182818284326142  2.7182818284590451  0.0000000000264309\n262144              2.7182818284524850  2.7182818284590451  0.0000000000065601\n524288              2.7182818284572940  2.7182818284590451  0.0000000000017510\n1048576             2.7182818284584789  2.7182818284590451  0.0000000000005662\n",
          "output_type": "stream"
        }
      ]
    },
    {
      "cell_type": "code",
      "source": "print(runge_kutta_df)",
      "metadata": {
        "trusted": true
      },
      "execution_count": 113,
      "outputs": [
        {
          "name": "stdout",
          "text": "         Runge Kutta Approximation              Actual               Error\n1024            2.7182818284590256  2.7182818284590451  0.0000000000000195\n2048            2.7182818284590486  2.7182818284590451  0.0000000000000036\n4096            2.7182818284590535  2.7182818284590451  0.0000000000000084\n8192            2.7182818284590238  2.7182818284590451  0.0000000000000213\n16384           2.7182818284590473  2.7182818284590451  0.0000000000000022\n32768           2.7182818284590300  2.7182818284590451  0.0000000000000151\n65536           2.7182818284589905  2.7182818284590451  0.0000000000000546\n131072          2.7182818284589891  2.7182818284590451  0.0000000000000560\n262144          2.7182818284590740  2.7182818284590451  0.0000000000000289\n524288          2.7182818284589119  2.7182818284590451  0.0000000000001332\n1048576         2.7182818284589283  2.7182818284590451  0.0000000000001168\n",
          "output_type": "stream"
        }
      ]
    },
    {
      "cell_type": "code",
      "source": "",
      "metadata": {},
      "execution_count": null,
      "outputs": []
    }
  ]
}